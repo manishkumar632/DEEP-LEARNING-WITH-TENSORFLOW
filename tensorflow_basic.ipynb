{
 "cells": [
  {
   "cell_type": "code",
   "execution_count": 1,
   "metadata": {},
   "outputs": [
    {
     "name": "stderr",
     "output_type": "stream",
     "text": [
      "2024-05-31 05:05:58.774317: I external/local_tsl/tsl/cuda/cudart_stub.cc:32] Could not find cuda drivers on your machine, GPU will not be used.\n",
      "2024-05-31 05:05:58.778091: I external/local_tsl/tsl/cuda/cudart_stub.cc:32] Could not find cuda drivers on your machine, GPU will not be used.\n",
      "2024-05-31 05:05:58.820540: I tensorflow/core/platform/cpu_feature_guard.cc:210] This TensorFlow binary is optimized to use available CPU instructions in performance-critical operations.\n",
      "To enable the following instructions: AVX2 FMA, in other operations, rebuild TensorFlow with the appropriate compiler flags.\n",
      "2024-05-31 05:05:59.825679: W tensorflow/compiler/tf2tensorrt/utils/py_utils.cc:38] TF-TRT Warning: Could not find TensorRT\n"
     ]
    }
   ],
   "source": [
    "import tensorflow as tf"
   ]
  },
  {
   "cell_type": "code",
   "execution_count": 3,
   "metadata": {},
   "outputs": [
    {
     "name": "stdout",
     "output_type": "stream",
     "text": [
      "tf.Tensor(4, shape=(), dtype=int32)\n",
      "tf.Tensor([1 2 3 4 5], shape=(5,), dtype=int32)\n",
      "tf.Tensor(\n",
      "[[1 2 3]\n",
      " [4 5 6]], shape=(2, 3), dtype=int32)\n",
      "tf.Tensor(\n",
      "[[[ 1  2  3]\n",
      "  [ 4  5  6]]\n",
      "\n",
      " [[ 7  8  9]\n",
      "  [10 11 12]]], shape=(2, 2, 3), dtype=int32)\n",
      "(2, 2, 3)\n",
      "3\n",
      "tf.Tensor(\n",
      "[[[[ 1  2  3]\n",
      "   [ 4  5  6]]\n",
      "\n",
      "  [[ 7  8  9]\n",
      "   [10 11 12]]]\n",
      "\n",
      "\n",
      " [[[13 14 15]\n",
      "   [16 17 18]]\n",
      "\n",
      "  [[19 20 21]\n",
      "   [22 23 24]]]], shape=(2, 2, 2, 3), dtype=int32)\n",
      "(2, 2, 2, 3)\n"
     ]
    },
    {
     "name": "stderr",
     "output_type": "stream",
     "text": [
      "2024-05-29 15:24:13.861196: E external/local_xla/xla/stream_executor/cuda/cuda_driver.cc:282] failed call to cuInit: CUDA_ERROR_NO_DEVICE: no CUDA-capable device is detected\n"
     ]
    }
   ],
   "source": [
    "tensor_zero_d = tf.constant(4)\n",
    "print(tensor_zero_d)\n",
    "tensor_one_d = tf.constant([1,2,3,4,5])\n",
    "print(tensor_one_d)\n",
    "tensor_two_d = tf.constant([[1,2,3],[4,5,6]])\n",
    "print(tensor_two_d)\n",
    "tensor_three_d = tf.constant([[[1,2,3],[4,5,6]],[[7,8,9],[10,11,12]]])\n",
    "print(tensor_three_d)\n",
    "\n",
    "print(tensor_three_d.shape)\n",
    "print(tensor_three_d.ndim)\n",
    "\n",
    "\n",
    "tensor_four_d = tf.constant([[[[1,2,3],[4,5,6]],[[7,8,9],[10,11,12]]],[[[13,14,15],[16,17,18]],[[19,20,21],[22,23,24]]]])\n",
    "print(tensor_four_d)\n",
    "print(tensor_four_d.shape)"
   ]
  },
  {
   "cell_type": "code",
   "execution_count": 4,
   "metadata": {},
   "outputs": [
    {
     "name": "stdout",
     "output_type": "stream",
     "text": [
      "tf.Tensor(b'Hello World', shape=(), dtype=string)\n"
     ]
    }
   ],
   "source": [
    "tensor_zero_D_string = tf.constant(\"Hello World\")\n",
    "print(tensor_zero_D_string)"
   ]
  },
  {
   "cell_type": "code",
   "execution_count": 5,
   "metadata": {},
   "outputs": [
    {
     "name": "stdout",
     "output_type": "stream",
     "text": [
      "tf.Tensor([b'Hello' b'World'], shape=(2,), dtype=string)\n"
     ]
    }
   ],
   "source": [
    "tensor_one_D_string = tf.constant([\"Hello\",\"World\"])\n",
    "print(tensor_one_D_string)"
   ]
  },
  {
   "cell_type": "code",
   "execution_count": 6,
   "metadata": {},
   "outputs": [
    {
     "name": "stdout",
     "output_type": "stream",
     "text": [
      "tf.Tensor(\n",
      "[[b'Hello' b'World']\n",
      " [b'Welcome To' b'Tensorflow']], shape=(2, 2), dtype=string)\n"
     ]
    }
   ],
   "source": [
    "tensor_two_D_string = tf.constant([[\"Hello\",\"World\"],[\"Welcome To\", \"Tensorflow\"]])\n",
    "print(tensor_two_D_string)"
   ]
  },
  {
   "cell_type": "markdown",
   "metadata": {},
   "source": [
    "# Convert Numpy Array to Tensor"
   ]
  },
  {
   "cell_type": "code",
   "execution_count": 7,
   "metadata": {},
   "outputs": [
    {
     "name": "stdout",
     "output_type": "stream",
     "text": [
      "[1 2 3 4 5]\n"
     ]
    }
   ],
   "source": [
    "import numpy as np\n",
    "np_array = np.array([1,2,3,4,5])\n",
    "print(np_array)"
   ]
  },
  {
   "cell_type": "code",
   "execution_count": 8,
   "metadata": {},
   "outputs": [
    {
     "name": "stdout",
     "output_type": "stream",
     "text": [
      "tf.Tensor([1 2 3 4 5], shape=(5,), dtype=int64)\n"
     ]
    }
   ],
   "source": [
    "converted_tensor = tf.convert_to_tensor(np_array)\n",
    "print(converted_tensor)"
   ]
  },
  {
   "cell_type": "markdown",
   "metadata": {},
   "source": [
    "<h1>tf.eye</h1>\n",
    "<h4 style=\"color: skyblue;\">Construct an identity matrix, or a batch of matrices.</h4>"
   ]
  },
  {
   "cell_type": "code",
   "execution_count": 9,
   "metadata": {},
   "outputs": [
    {
     "name": "stdout",
     "output_type": "stream",
     "text": [
      "tf.Tensor(\n",
      "[[[1. 0. 0.]\n",
      "  [0. 1. 0.]\n",
      "  [0. 0. 1.]]\n",
      "\n",
      " [[1. 0. 0.]\n",
      "  [0. 1. 0.]\n",
      "  [0. 0. 1.]]], shape=(2, 3, 3), dtype=float32)\n"
     ]
    }
   ],
   "source": [
    "tensorflow_eye = tf.eye(\n",
    "    3,\n",
    "    num_columns=None,\n",
    "    batch_shape=[2],\n",
    "    dtype=tf.dtypes.float32,\n",
    "    name=None\n",
    ")\n",
    "print(tensorflow_eye)"
   ]
  },
  {
   "cell_type": "code",
   "execution_count": 10,
   "metadata": {},
   "outputs": [
    {
     "name": "stdout",
     "output_type": "stream",
     "text": [
      "tf.Tensor(\n",
      "[[[[3. 0. 0.]\n",
      "   [0. 3. 0.]\n",
      "   [0. 0. 3.]]\n",
      "\n",
      "  [[3. 0. 0.]\n",
      "   [0. 3. 0.]\n",
      "   [0. 0. 3.]]]\n",
      "\n",
      "\n",
      " [[[3. 0. 0.]\n",
      "   [0. 3. 0.]\n",
      "   [0. 0. 3.]]\n",
      "\n",
      "  [[3. 0. 0.]\n",
      "   [0. 3. 0.]\n",
      "   [0. 0. 3.]]]], shape=(2, 2, 3, 3), dtype=float32)\n"
     ]
    }
   ],
   "source": [
    "tensorflow_eye = tf.eye(\n",
    "    3,\n",
    "    num_columns=None,\n",
    "    batch_shape=[2, 2],\n",
    "    dtype=tf.dtypes.float32,\n",
    "    name=None\n",
    ")\n",
    "print(3*tensorflow_eye)"
   ]
  },
  {
   "cell_type": "markdown",
   "metadata": {},
   "source": [
    "# tf.fill\n",
    "<h4 style=\"color: skyblue;\">Creates a tensor filled with a scalar value.<br>\n",
    "tf.fill evaluates at graph runtime and supports dynamic shapes based on other runtime tf.Tensors, unlike tf.constant(value, shape=dims), which embeds the value as a Const node.</h4>"
   ]
  },
  {
   "cell_type": "code",
   "execution_count": 11,
   "metadata": {},
   "outputs": [
    {
     "name": "stdout",
     "output_type": "stream",
     "text": [
      "tf.Tensor(\n",
      "[[5 5 5]\n",
      " [5 5 5]], shape=(2, 3), dtype=int32)\n"
     ]
    }
   ],
   "source": [
    "fill_tensor = tf.fill(\n",
    "    [2, 3], 5, name=None, layout=None\n",
    ")\n",
    "print(fill_tensor)"
   ]
  },
  {
   "cell_type": "markdown",
   "metadata": {},
   "source": [
    "# tf.random.normal\n",
    "<h4 style=\"color: skyblue;\">Outputs random values from a normal distribution.</h4>"
   ]
  },
  {
   "cell_type": "code",
   "execution_count": 12,
   "metadata": {},
   "outputs": [
    {
     "name": "stdout",
     "output_type": "stream",
     "text": [
      "tf.Tensor(\n",
      "[[100.55963  99.92206 102.2915 ]\n",
      " [ 99.77823  97.92244  99.25039]], shape=(2, 3), dtype=float32)\n"
     ]
    }
   ],
   "source": [
    "random_tensor = tf.random.normal(\n",
    "    [2, 3], mean=100.0, stddev=1.0, dtype=tf.dtypes.float32, seed=None, name=None\n",
    ")\n",
    "print(random_tensor)"
   ]
  },
  {
   "cell_type": "markdown",
   "metadata": {},
   "source": [
    "# tf.random.uniform\n",
    "<h4 style=\"color: skyblue;\">The generated values follow a uniform distribution in the range [minval, maxval). The lower bound minval is included in the range, while the upper bound maxval is excluded.\n",
    "\n",
    "For floats, the default range is [0, 1). For ints, at least maxval must be specified explicitly.\n",
    "\n",
    "In the integer case, the random integers are slightly biased unless maxval - minval is an exact power of two. The bias is small for values of maxval - minval significantly smaller than the range of the output (either 2<sup>32</sup> or 2<sup>64</sup>).</h4>"
   ]
  },
  {
   "cell_type": "code",
   "execution_count": 3,
   "metadata": {},
   "outputs": [
    {
     "name": "stdout",
     "output_type": "stream",
     "text": [
      "tf.Tensor(\n",
      "[[9.610163   0.02893567 3.727703  ]\n",
      " [3.2467532  5.7105303  5.356349  ]], shape=(2, 3), dtype=float32)\n"
     ]
    }
   ],
   "source": [
    "uniform_tensor = tf.random.uniform(\n",
    "    [2, 3], minval=0, maxval=10, dtype=tf.dtypes.float32, seed=None, name=None\n",
    ")\n",
    "print(uniform_tensor)"
   ]
  },
  {
   "cell_type": "code",
   "execution_count": 14,
   "metadata": {},
   "outputs": [
    {
     "name": "stdout",
     "output_type": "stream",
     "text": [
      "tf.Tensor([1 2 2 1 2], shape=(5,), dtype=int32)\n",
      "tf.Tensor(\n",
      "[[2 1 1]\n",
      " [2 1 0]], shape=(2, 3), dtype=int32)\n",
      "tf.Tensor([0 1 1 0 0], shape=(5,), dtype=int32)\n",
      "tf.Tensor(\n",
      "[[1 0 2]\n",
      " [0 2 0]], shape=(2, 3), dtype=int32)\n"
     ]
    }
   ],
   "source": [
    "tf.random.set_seed(6)\n",
    "print(tf.random.uniform(shape=[5], maxval=3, dtype=tf.int32, seed=10))\n",
    "\n",
    "print(tf.random.uniform(shape=[2, 3], maxval=3, dtype=tf.int32, seed=10))\n",
    "\n",
    "print(tf.random.uniform(shape=[5], maxval=3, dtype=tf.int32, seed=10))\n",
    "\n",
    "print(tf.random.uniform(shape=[2,3], maxval=3, dtype=tf.int32, seed=10))"
   ]
  },
  {
   "cell_type": "code",
   "execution_count": 15,
   "metadata": {},
   "outputs": [
    {
     "name": "stdout",
     "output_type": "stream",
     "text": [
      "tf.Tensor([1 2 2 1 2], shape=(5,), dtype=int32)\n",
      "tf.Tensor(\n",
      "[[2 1 1]\n",
      " [2 1 0]], shape=(2, 3), dtype=int32)\n",
      "tf.Tensor([0 1 1 0 0], shape=(5,), dtype=int32)\n",
      "tf.Tensor(\n",
      "[[1 0 2]\n",
      " [0 2 0]], shape=(2, 3), dtype=int32)\n"
     ]
    }
   ],
   "source": [
    "tf.random.set_seed(6)\n",
    "print(tf.random.uniform(shape=[5], maxval=3, dtype=tf.int32, seed=10))\n",
    "\n",
    "print(tf.random.uniform(shape=[2, 3], maxval=3, dtype=tf.int32, seed=10))\n",
    "\n",
    "print(tf.random.uniform(shape=[5], maxval=3, dtype=tf.int32, seed=10))\n",
    "\n",
    "print(tf.random.uniform(shape=[2,3], maxval=3, dtype=tf.int32, seed=10))"
   ]
  },
  {
   "cell_type": "markdown",
   "metadata": {},
   "source": [
    "# Indexing"
   ]
  },
  {
   "cell_type": "code",
   "execution_count": 24,
   "metadata": {},
   "outputs": [
    {
     "name": "stdout",
     "output_type": "stream",
     "text": [
      "tf.Tensor([ 3  4  5 25], shape=(4,), dtype=int32)\n",
      "tf.Tensor([ 1  2  3  4  5 25], shape=(6,), dtype=int32)\n"
     ]
    }
   ],
   "source": [
    "tensor_indexed = tf.constant([1,2,3,4,5, 25, 89, 9, 26])\n",
    "print(tensor_indexed[2:6])\n",
    "print(tensor_indexed[:-3])"
   ]
  },
  {
   "cell_type": "code",
   "execution_count": 29,
   "metadata": {},
   "outputs": [
    {
     "name": "stdout",
     "output_type": "stream",
     "text": [
      "3\n",
      "5\n",
      "7\n",
      "9\n"
     ]
    }
   ],
   "source": [
    "for i in range(3, 10, 2):\n",
    "    print(i)"
   ]
  },
  {
   "cell_type": "code",
   "execution_count": 31,
   "metadata": {},
   "outputs": [
    {
     "name": "stdout",
     "output_type": "stream",
     "text": [
      "tf.Tensor(3, shape=(), dtype=int32)\n",
      "tf.Tensor(4, shape=(), dtype=int32)\n",
      "tf.Tensor(5, shape=(), dtype=int32)\n",
      "tf.Tensor(25, shape=(), dtype=int32)\n"
     ]
    }
   ],
   "source": [
    "for i in tensor_indexed[2:6]:\n",
    "    print(i)"
   ]
  },
  {
   "cell_type": "markdown",
   "metadata": {},
   "source": [
    "<h4>Indexing for matrix</h4>"
   ]
  },
  {
   "cell_type": "code",
   "execution_count": 3,
   "metadata": {},
   "outputs": [
    {
     "name": "stdout",
     "output_type": "stream",
     "text": [
      "tf.Tensor(\n",
      "[[1 2]\n",
      " [4 5]\n",
      " [7 8]], shape=(3, 2), dtype=int32)\n",
      "(4, 3)\n"
     ]
    }
   ],
   "source": [
    "tensor_two_d_matrix = tf.constant([[1,2,3],[4,5,6],[7,8,9],[10,11,12]])\n",
    "print(tensor_two_d_matrix[:3, :2])\n",
    "print(tensor_two_d_matrix.shape)"
   ]
  }
 ],
 "metadata": {
  "kernelspec": {
   "display_name": "Python 3",
   "language": "python",
   "name": "python3"
  },
  "language_info": {
   "codemirror_mode": {
    "name": "ipython",
    "version": 3
   },
   "file_extension": ".py",
   "mimetype": "text/x-python",
   "name": "python",
   "nbconvert_exporter": "python",
   "pygments_lexer": "ipython3",
   "version": "3.12.3"
  }
 },
 "nbformat": 4,
 "nbformat_minor": 2
}
