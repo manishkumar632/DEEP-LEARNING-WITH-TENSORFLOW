{
 "cells": [
  {
   "cell_type": "code",
   "execution_count": 3,
   "metadata": {},
   "outputs": [],
   "source": [
    "import tensorflow as tf"
   ]
  },
  {
   "cell_type": "code",
   "execution_count": 4,
   "metadata": {},
   "outputs": [
    {
     "name": "stdout",
     "output_type": "stream",
     "text": [
      "tf.Tensor(4, shape=(), dtype=int32)\n",
      "tf.Tensor([1 2 3 4 5], shape=(5,), dtype=int32)\n",
      "tf.Tensor(\n",
      "[[1 2 3]\n",
      " [4 5 6]], shape=(2, 3), dtype=int32)\n",
      "tf.Tensor(\n",
      "[[[ 1  2  3]\n",
      "  [ 4  5  6]]\n",
      "\n",
      " [[ 7  8  9]\n",
      "  [10 11 12]]], shape=(2, 2, 3), dtype=int32)\n",
      "(2, 2, 3)\n",
      "3\n",
      "tf.Tensor(\n",
      "[[[[ 1  2  3]\n",
      "   [ 4  5  6]]\n",
      "\n",
      "  [[ 7  8  9]\n",
      "   [10 11 12]]]\n",
      "\n",
      "\n",
      " [[[13 14 15]\n",
      "   [16 17 18]]\n",
      "\n",
      "  [[19 20 21]\n",
      "   [22 23 24]]]], shape=(2, 2, 2, 3), dtype=int32)\n",
      "(2, 2, 2, 3)\n"
     ]
    }
   ],
   "source": [
    "tensor_zero_d = tf.constant(4)\n",
    "print(tensor_zero_d)\n",
    "tensor_one_d = tf.constant([1,2,3,4,5])\n",
    "print(tensor_one_d)\n",
    "tensor_two_d = tf.constant([[1,2,3],[4,5,6]])\n",
    "print(tensor_two_d)\n",
    "tensor_three_d = tf.constant([[[1,2,3],[4,5,6]],[[7,8,9],[10,11,12]]])\n",
    "print(tensor_three_d)\n",
    "\n",
    "print(tensor_three_d.shape)\n",
    "print(tensor_three_d.ndim)\n",
    "\n",
    "\n",
    "tensor_four_d = tf.constant([[[[1,2,3],[4,5,6]],[[7,8,9],[10,11,12]]],[[[13,14,15],[16,17,18]],[[19,20,21],[22,23,24]]]])\n",
    "print(tensor_four_d)\n",
    "print(tensor_four_d.shape)"
   ]
  },
  {
   "cell_type": "code",
   "execution_count": 5,
   "metadata": {},
   "outputs": [
    {
     "name": "stdout",
     "output_type": "stream",
     "text": [
      "tf.Tensor(b'Hello World', shape=(), dtype=string)\n"
     ]
    }
   ],
   "source": [
    "tensor_zero_D_string = tf.constant(\"Hello World\")\n",
    "print(tensor_zero_D_string)"
   ]
  },
  {
   "cell_type": "code",
   "execution_count": 6,
   "metadata": {},
   "outputs": [
    {
     "name": "stdout",
     "output_type": "stream",
     "text": [
      "tf.Tensor([b'Hello' b'World'], shape=(2,), dtype=string)\n"
     ]
    }
   ],
   "source": [
    "tensor_one_D_string = tf.constant([\"Hello\",\"World\"])\n",
    "print(tensor_one_D_string)"
   ]
  },
  {
   "cell_type": "code",
   "execution_count": 7,
   "metadata": {},
   "outputs": [
    {
     "name": "stdout",
     "output_type": "stream",
     "text": [
      "tf.Tensor(\n",
      "[[b'Hello' b'World']\n",
      " [b'Welcome To' b'Tensorflow']], shape=(2, 2), dtype=string)\n"
     ]
    }
   ],
   "source": [
    "tensor_two_D_string = tf.constant([[\"Hello\",\"World\"],[\"Welcome To\", \"Tensorflow\"]])\n",
    "print(tensor_two_D_string)"
   ]
  },
  {
   "cell_type": "markdown",
   "metadata": {},
   "source": [
    "# Convert Numpy Array to Tensor"
   ]
  },
  {
   "cell_type": "code",
   "execution_count": 8,
   "metadata": {},
   "outputs": [
    {
     "name": "stdout",
     "output_type": "stream",
     "text": [
      "[1 2 3 4 5]\n"
     ]
    }
   ],
   "source": [
    "import numpy as np\n",
    "np_array = np.array([1,2,3,4,5])\n",
    "print(np_array)"
   ]
  },
  {
   "cell_type": "code",
   "execution_count": 9,
   "metadata": {},
   "outputs": [
    {
     "name": "stdout",
     "output_type": "stream",
     "text": [
      "tf.Tensor([1 2 3 4 5], shape=(5,), dtype=int64)\n"
     ]
    }
   ],
   "source": [
    "converted_tensor = tf.convert_to_tensor(np_array)\n",
    "print(converted_tensor)"
   ]
  },
  {
   "cell_type": "markdown",
   "metadata": {},
   "source": [
    "<h1>tf.eye</h1>\n",
    "<h4 style=\"color: skyblue;\">Construct an identity matrix, or a batch of matrices.</h4>"
   ]
  },
  {
   "cell_type": "code",
   "execution_count": 10,
   "metadata": {},
   "outputs": [
    {
     "name": "stdout",
     "output_type": "stream",
     "text": [
      "tf.Tensor(\n",
      "[[[1. 0. 0.]\n",
      "  [0. 1. 0.]\n",
      "  [0. 0. 1.]]\n",
      "\n",
      " [[1. 0. 0.]\n",
      "  [0. 1. 0.]\n",
      "  [0. 0. 1.]]], shape=(2, 3, 3), dtype=float32)\n"
     ]
    }
   ],
   "source": [
    "tensorflow_eye = tf.eye(\n",
    "    3,\n",
    "    num_columns=None,\n",
    "    batch_shape=[2],\n",
    "    dtype=tf.dtypes.float32,\n",
    "    name=None\n",
    ")\n",
    "print(tensorflow_eye)"
   ]
  },
  {
   "cell_type": "code",
   "execution_count": 11,
   "metadata": {},
   "outputs": [
    {
     "name": "stdout",
     "output_type": "stream",
     "text": [
      "tf.Tensor(\n",
      "[[[[3. 0. 0.]\n",
      "   [0. 3. 0.]\n",
      "   [0. 0. 3.]]\n",
      "\n",
      "  [[3. 0. 0.]\n",
      "   [0. 3. 0.]\n",
      "   [0. 0. 3.]]]\n",
      "\n",
      "\n",
      " [[[3. 0. 0.]\n",
      "   [0. 3. 0.]\n",
      "   [0. 0. 3.]]\n",
      "\n",
      "  [[3. 0. 0.]\n",
      "   [0. 3. 0.]\n",
      "   [0. 0. 3.]]]], shape=(2, 2, 3, 3), dtype=float32)\n"
     ]
    }
   ],
   "source": [
    "tensorflow_eye = tf.eye(\n",
    "    3,\n",
    "    num_columns=None,\n",
    "    batch_shape=[2, 2],\n",
    "    dtype=tf.dtypes.float32,\n",
    "    name=None\n",
    ")\n",
    "print(3*tensorflow_eye)"
   ]
  },
  {
   "cell_type": "markdown",
   "metadata": {},
   "source": [
    "# tf.fill\n",
    "<h4 style=\"color: skyblue;\">Creates a tensor filled with a scalar value.<br>\n",
    "tf.fill evaluates at graph runtime and supports dynamic shapes based on other runtime tf.Tensors, unlike tf.constant(value, shape=dims), which embeds the value as a Const node.</h4>"
   ]
  },
  {
   "cell_type": "code",
   "execution_count": 20,
   "metadata": {},
   "outputs": [
    {
     "name": "stdout",
     "output_type": "stream",
     "text": [
      "tf.Tensor(\n",
      "[[5 5 5]\n",
      " [5 5 5]], shape=(2, 3), dtype=int32)\n"
     ]
    }
   ],
   "source": [
    "fill_tensor = tf.fill(\n",
    "    [2, 3], 5, name=None, layout=None\n",
    ")\n",
    "print(fill_tensor)"
   ]
  },
  {
   "cell_type": "markdown",
   "metadata": {},
   "source": [
    "# tf.random\n",
    "<h4 style=\"color: skyblue;\">Creates a tensor of the given shape filled with random values.<br>\n",
    "tf.random.normal evaluates at graph runtime and supports dynamic shapes based on other runtime tf.Tensors, unlike tf.constant(value, shape=dims), which embeds the value as a Const node.</h4>"
   ]
  },
  {
   "cell_type": "code",
   "execution_count": 19,
   "metadata": {},
   "outputs": [
    {
     "name": "stdout",
     "output_type": "stream",
     "text": [
      "tf.Tensor(\n",
      "[[ 98.87869   98.94774  100.86144 ]\n",
      " [101.38179   99.633286 100.67717 ]], shape=(2, 3), dtype=float32)\n"
     ]
    }
   ],
   "source": [
    "random_tensor = tf.random.normal(\n",
    "    [2, 3], mean=100.0, stddev=1.0, dtype=tf.dtypes.float32, seed=None, name=None\n",
    ")\n",
    "print(random_tensor)"
   ]
  }
 ],
 "metadata": {
  "kernelspec": {
   "display_name": "Python 3",
   "language": "python",
   "name": "python3"
  },
  "language_info": {
   "codemirror_mode": {
    "name": "ipython",
    "version": 3
   },
   "file_extension": ".py",
   "mimetype": "text/x-python",
   "name": "python",
   "nbconvert_exporter": "python",
   "pygments_lexer": "ipython3",
   "version": "3.12.3"
  }
 },
 "nbformat": 4,
 "nbformat_minor": 2
}
